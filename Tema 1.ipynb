{
 "cells": [
  {
   "cell_type": "code",
   "execution_count": 84,
   "metadata": {},
   "outputs": [
    {
     "name": "stdout",
     "output_type": "stream",
     "text": [
      "75.0\n",
      "175.0\n",
      "229.0\n",
      "138.0\n",
      "185.0\n",
      "155.0\n",
      "[75.0, 175.0, 229.0, 138.0, 185.0, 155.0]\n"
     ]
    }
   ],
   "source": [
    "#calculeaza suma pe linii\n",
    "#pentur mine: line citeste linia in txt ca readline, cu /n, la sfarsit, daca scoti [:-1], oricum lucreaza\n",
    "f = open('numbers.txt','r')\n",
    "suma=[]\n",
    "vep=[]\n",
    "def suma(x):\n",
    "    s=0;\n",
    "    for a in x:\n",
    "        s+=a;\n",
    "    return s\n",
    "for line in f:\n",
    "    a=line[:-1]\n",
    "    t=a.split(',')\n",
    "    r=list(map(float, t))\n",
    "    print(suma(r))\n",
    "    vep.append(suma(r))\n",
    "print(vep)\n",
    "type(vep)\n",
    "f.close()"
   ]
  },
  {
   "cell_type": "code",
   "execution_count": 83,
   "metadata": {},
   "outputs": [
    {
     "name": "stdout",
     "output_type": "stream",
     "text": [
      "75.0\n",
      "175.0\n",
      "229.0\n",
      "138.0\n",
      "185.0\n",
      "155.0\n",
      "[75.0, 175.0, 229.0, 138.0, 185.0, 155.0]\n",
      "957.0\n"
     ]
    }
   ],
   "source": [
    "#suma tuturor elementelor\n",
    "f = open('numbers.txt','r')\n",
    "suma=[]\n",
    "vep=[]\n",
    "def suma(x):\n",
    "    s=0;\n",
    "    for a in x:\n",
    "        s+=a;\n",
    "    return s\n",
    "for line in f:\n",
    "    a=line[:-1]\n",
    "    t=a.split(',')\n",
    "    r=list(map(float, t))\n",
    "    vep.append(suma(r))\n",
    "\n",
    "print(suma(vep))\n",
    "\n",
    "f.close()"
   ]
  },
  {
   "cell_type": "code",
   "execution_count": 89,
   "metadata": {},
   "outputs": [
    {
     "name": "stdout",
     "output_type": "stream",
     "text": [
      "[10.0, 15.0, 20.0, 30.0, 20.0, 25.0, 50.0, 80.0, 50.0, 54.0, 55.0, 70.0, 30.0, 35.0, 60.0, 13.0, 40.0, 45.0, 70.0, 30.0, 60.0, 66.0, 12.0, 17.0]\n"
     ]
    },
    {
     "ename": "AttributeError",
     "evalue": "'list' object has no attribute 'size'",
     "output_type": "error",
     "traceback": [
      "\u001b[1;31m---------------------------------------------------------------------------\u001b[0m",
      "\u001b[1;31mAttributeError\u001b[0m                            Traceback (most recent call last)",
      "\u001b[1;32m<ipython-input-89-f8924deef881>\u001b[0m in \u001b[0;36m<module>\u001b[1;34m\u001b[0m\n\u001b[0;32m      8\u001b[0m     \u001b[0mtoate\u001b[0m\u001b[1;33m=\u001b[0m\u001b[0mtoate\u001b[0m\u001b[1;33m+\u001b[0m\u001b[0mr\u001b[0m\u001b[1;33m\u001b[0m\u001b[1;33m\u001b[0m\u001b[0m\n\u001b[0;32m      9\u001b[0m \u001b[0mprint\u001b[0m\u001b[1;33m(\u001b[0m\u001b[0mtoate\u001b[0m\u001b[1;33m)\u001b[0m\u001b[1;33m\u001b[0m\u001b[1;33m\u001b[0m\u001b[0m\n\u001b[1;32m---> 10\u001b[1;33m \u001b[0mtoate\u001b[0m\u001b[1;33m.\u001b[0m\u001b[0msize\u001b[0m\u001b[1;33m\u001b[0m\u001b[1;33m\u001b[0m\u001b[0m\n\u001b[0m\u001b[0;32m     11\u001b[0m \u001b[0mf\u001b[0m\u001b[1;33m.\u001b[0m\u001b[0mclose\u001b[0m\u001b[1;33m(\u001b[0m\u001b[1;33m)\u001b[0m\u001b[1;33m\u001b[0m\u001b[1;33m\u001b[0m\u001b[0m\n",
      "\u001b[1;31mAttributeError\u001b[0m: 'list' object has no attribute 'size'"
     ]
    }
   ],
   "source": [
    "#concatenare numerelor\n",
    "f = open('numbers.txt','r')\n",
    "toate=[]\n",
    "for line in f:\n",
    "    a=line[:-1]\n",
    "    t=a.split(',')\n",
    "    r=list(map(float, t))\n",
    "    toate=toate+r\n",
    "print(toate)   \n",
    "f.close()"
   ]
  },
  {
   "cell_type": "code",
   "execution_count": null,
   "metadata": {},
   "outputs": [],
   "source": []
  }
 ],
 "metadata": {
  "kernelspec": {
   "display_name": "Python 3",
   "language": "python",
   "name": "python3"
  }
 },
 "nbformat": 4,
 "nbformat_minor": 2
}
