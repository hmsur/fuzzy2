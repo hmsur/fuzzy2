{
 "cells": [
  {
   "cell_type": "code",
   "execution_count": 11,
   "metadata": {},
   "outputs": [],
   "source": [
    "### Tema BasicStatistics\n",
    "\n",
    "# Exercitiul 1"
   ]
  },
  {
   "cell_type": "code",
   "execution_count": 2,
   "metadata": {},
   "outputs": [],
   "source": [
    "import numpy as np\n",
    "import pandas as pd\n",
    "import scipy\n",
    "import matplotlib.pyplot as plt\n",
    "import math as m\n",
    "import scipy.stats as stats"
   ]
  },
  {
   "cell_type": "code",
   "execution_count": 40,
   "metadata": {
    "scrolled": true
   },
   "outputs": [
    {
     "name": "stdout",
     "output_type": "stream",
     "text": [
      "5 aruncari \n",
      "[0 1 0 1 1]\n",
      "10 aruncari \n",
      "[1 1 1 0 1 1 0 1 0 1]\n",
      "30 aruncari \n",
      "[0 1 0 1 1 1 1 1 0 0 0 1 0 0 1 0 1 0 1 0 0 0 1 1 0 1 1 1 1 0]\n"
     ]
    },
    {
     "data": {
      "text/plain": [
       "(None, None)"
      ]
     },
     "execution_count": 40,
     "metadata": {},
     "output_type": "execute_result"
    }
   ],
   "source": [
    "# 1. Ar fi interesant de facut un experiment cu 5, 10, 30 de observatii. Notati rezultatele.\n",
    "\n",
    "vector5=np.random.binomial(1,0.5,5)\n",
    "vector10=np.random.binomial(1,0.5,10)\n",
    "vector30=np.random.binomial(1,0.5,30)\n",
    "print(\"5 aruncari \"), print(vector5)\n",
    "print(\"10 aruncari \"), print(vector10)\n",
    "print(\"30 aruncari \"), print(vector30)"
   ]
  },
  {
   "cell_type": "code",
   "execution_count": 41,
   "metadata": {},
   "outputs": [
    {
     "name": "stdout",
     "output_type": "stream",
     "text": [
      "Test de ipoteza pentru 5 aruncari \n",
      "1.0\n",
      "Test de ipoteza pentru 10 aruncari \n",
      "0.3437499999999999\n",
      "Test de ipoteza pentru 30 aruncari \n",
      "0.8555355519056318\n"
     ]
    }
   ],
   "source": [
    "# 2. Testati rezultatele cu hypothesis testing folosind ca ipoteza nula p=0.5.\n",
    "\n",
    "heads5 = np.sum(vector5[vector5==1])\n",
    "print(\"Test de ipoteza pentru 5 aruncari \")\n",
    "print(stats.binom_test(x=[5-heads5, heads5], p=0.5, alternative='two-sided'))\n",
    "print(\"Test de ipoteza pentru 10 aruncari \")\n",
    "heads10 = np.sum(vector10[vector10==1])\n",
    "print(stats.binom_test(x=[10-heads10, heads10], p=0.5, alternative='two-sided'))\n",
    "print(\"Test de ipoteza pentru 30 aruncari \")\n",
    "heads30 = np.sum(vector30[vector30==1])\n",
    "print(stats.binom_test(x=[30-heads30, heads30], p=0.5, alternative='two-sided'))"
   ]
  },
  {
   "cell_type": "code",
   "execution_count": 42,
   "metadata": {},
   "outputs": [
    {
     "name": "stdout",
     "output_type": "stream",
     "text": [
      "Confidence interval pentur 5 aruncari: (0.11990883236446898, 1.080091167635531)\n",
      "Confidence interval pentru  10 aruncari: (0.4006105560485982, 0.9993894439514017)\n",
      "Confidence interval pentru 30 aruncari: (0.35176009195114655, 0.7149065747155201)\n",
      "RASPUNS, deci cu cat numarul de incercari este mai mare, intervalul de confidenta devine mai restrans.\n"
     ]
    }
   ],
   "source": [
    "# 3. Ce putem spune despre felul in care evolueaza intervalul de incredere?\n",
    "\n",
    "n, min_max, mean, var, skew, kurt = stats.describe(vector5)\n",
    "std=m.sqrt(var)\n",
    "# We will assume a normal distribution\n",
    "print('Confidence interval pentur 5 aruncari:', stats.norm.interval(0.95,loc=mean,scale=std/m.sqrt(n)))\n",
    "\n",
    "n, min_max, mean, var, skew, kurt = stats.describe(vector10)\n",
    "std=m.sqrt(var)\n",
    "# We will assume a normal distribution\n",
    "print('Confidence interval pentru  10 aruncari:', stats.norm.interval(0.95,loc=mean,scale=std/m.sqrt(n)))\n",
    "\n",
    "n, min_max, mean, var, skew, kurt = stats.describe(vector30)\n",
    "std=m.sqrt(var)\n",
    "# We will assume a normal distribution\n",
    "print('Confidence interval pentru 30 aruncari:', stats.norm.interval(0.95,loc=mean,scale=std/m.sqrt(n)))\n",
    "\n",
    "print(\"RASPUNS, deci cu cat numarul de incercari este mai mare, intervalul de confidenta devine mai restrans.\")"
   ]
  },
  {
   "cell_type": "code",
   "execution_count": 49,
   "metadata": {},
   "outputs": [
    {
     "name": "stdout",
     "output_type": "stream",
     "text": [
      "Coeficientul de corelatie pearson(+eroare) intre inaltimea baietilor in raport cu mamele lor este \n",
      "(0.48491768425178655, 9.100362271636465e-12)\n",
      "Coeficientul de corelatie pearson(+eraore) intre inaltimea fetelor in raport cu mamele lor este \n",
      "(0.46743677130124, 1.9747722235599194e-11)\n"
     ]
    }
   ],
   "source": [
    "# Exercitiul 2\n",
    "\n",
    "# Verificati daca exista vre-o corelatie intre inaltimea fetelor sau baietilor in raport cu mamele lor. \n",
    "# 1. Masurati coeficientul de corelatie dintre aceste variabile \n",
    "\n",
    "pearson = pd.read_csv('pearson.csv')\n",
    "ms = pearson[pearson['gp']=='ms']\n",
    "md = pearson[pearson['gp']=='md']\n",
    "\n",
    "print(\"Coeficientul de corelatie pearson(+eroare) intre inaltimea baietilor in raport cu mamele lor este \")\n",
    "print(stats.pearsonr(ms['parent'], ms['child']))\n",
    "\n",
    "print(\"Coeficientul de corelatie pearson(+eraore) intre inaltimea fetelor in raport cu mamele lor este \")\n",
    "print(stats.pearsonr(md['parent'], md['child']))\n"
   ]
  },
  {
   "cell_type": "code",
   "execution_count": 59,
   "metadata": {},
   "outputs": [
    {
     "name": "stdout",
     "output_type": "stream",
     "text": [
      "Coeficientul de corelatie pearson(+eroare) intre inaltimea baietilor in raport cu tati lor este \n",
      "(0.520672383091477, 7.95436981660149e-14)\n",
      "Coeficientul de corelatie pearson(+eroare) intre inaltimea fetelor in raport cu tati lor este \n",
      "(0.47205300652210314, 7.905672025208357e-13)\n",
      " \n",
      "Cum erorile sant mai mici cu grad de 100, sau 1000,(fata de cele de la copii in relatie cu mamele lor) coeficientul de corelatie intre inaltimea copiilor cu a tatalui este mai semnificativa\n"
     ]
    }
   ],
   "source": [
    "# 2. Comentati aceste rezultate in comparatie cu cele obtinute pentru parintii de sex masculin si copii lor\n",
    "\n",
    "fs = pearson[pearson['gp']=='fs']\n",
    "fd = pearson[pearson['gp']=='fd']\n",
    "print(\"Coeficientul de corelatie pearson(+eroare) intre inaltimea baietilor in raport cu tati lor este \")\n",
    "print(stats.pearsonr(fs['parent'], fs['child']))\n",
    "print(\"Coeficientul de corelatie pearson(+eroare) intre inaltimea fetelor in raport cu tati lor este \")\n",
    "print(stats.pearsonr(fd['parent'], fd['child']))\n",
    "print(\" \")\n",
    "print(\"Cum erorile sant mai mici cu grad de 100, sau 1000,(fata de cele de la copii in relatie cu mamele lor) coeficientul de corelatie intre inaltimea copiilor cu a tatalui este mai semnificativa.\")"
   ]
  }
 ],
 "metadata": {
  "kernelspec": {
   "display_name": "Python 3",
   "language": "python",
   "name": "python3"
  },
  "language_info": {
   "codemirror_mode": {
    "name": "ipython",
    "version": 3
   },
   "file_extension": ".py",
   "mimetype": "text/x-python",
   "name": "python",
   "nbconvert_exporter": "python",
   "pygments_lexer": "ipython3",
   "version": "3.7.4"
  }
 },
 "nbformat": 4,
 "nbformat_minor": 2
}
