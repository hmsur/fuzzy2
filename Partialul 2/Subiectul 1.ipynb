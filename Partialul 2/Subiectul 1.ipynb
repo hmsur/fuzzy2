{
 "cells": [
  {
   "cell_type": "markdown",
   "metadata": {},
   "source": [
    "# SUBIECTUL 1\n",
    "\n",
    "    Metoda de rezolvare:\n",
    "    \n",
    "Se aplica kmeans clustering cu trei metode(random, k-means++(cel ce incearca sa optimizeze alegerea centrelor initiale), pcamethod). SCOPUL ESTE DE A MAXIMIZA v-score measure. Initial sa facut clustering cu 10 cluster-uri, deorece si logic, vrem sa facem label la imagini cu cifrele de la 0 pana la 9. Insa asa un clustering in toate trei metode da un v-score de aproximativ 0.43, ce este mic. \n",
    "\n",
    "Cauza fiind anume faptul ca, imaginile pe care se face train sant handwritten, si de exemplu 3 se poate incurca cu 8, 4 cu 7, 5 cu 6. Si mai sant si diferite moduri de a scrie 7 care de exemplu sa fie similar cu 1.\n",
    "\n",
    "Aceasta s-a remediat folosind mai multe cluster-uri, alegandu-se 100 de cluster-uri. Urmand ca pentru fiecare cluster sa fie asociat o cifra, care este cea mai frecventa cifra ce apare in acel cluster. Iar pentru fiecare astfel de cluster, la fiecare element din cluster se face relabeling cu acea cifra cea mai frecventa din cluster. Astfel transformam datasetu cu 100 de label-uri, deoarece sunt 100 de cluster-uri, in un dataset cu 10 label-uri, ce reprezinta cifrele. Prin transformarea aceasta aflam la fiecare imagine ce numar ii prezice clustering cel mai probabil.\n",
    "    \n",
    "    Se afla v-means score inca odata, si obtinem rezultatele (sunt si printate in program):\n",
    "    kmeans clustering folosing kmeans++ cu 100 de clustere: 0.7620095860197739\n",
    "    kmeans clustering folosind metoda random cu 100 de clustere: 0.7669896233124648\n",
    "    kmeans clustering folosind PCA cu 100 de clustere este: 0.7486168069171566\n",
    "    \n",
    "Kmeans cu metoda random de initializare a centrelor, da cel mai mare v-score de 0.766(ce este un rezultat mult mai bun decat 0.43, daca am folosi si mai multe cluster-uri am gasi si mai mare v-score), insa este interesant de observat ca nu este practic diferenta intre aceste metode in eficienta, v-scorurile toate fiind aproape de 0.75. Dar daca de ales un anumit clustering final, consider cel mai bun de ales kmeans clustering cu metoda k-means++, care este o metoda mai eficienta teoretic de a initializa centrele. Pe cand cu metoda random ar putea da diferite rezultate.\n",
    "    \n",
    "    Deci metoda aleasa este, kmeans clustering folosind metoda k-means++ cu 100 de clustere."
   ]
  },
  {
   "cell_type": "markdown",
   "metadata": {},
   "source": [
    "Concluzie: Observam ca cel mai mare v-score measure il are K-means folosind kmeans clustering folosind metoda PCA.\n",
    "Deci k-means clustering folosind metoda PCA, este clustering-ul ales."
   ]
  },
  {
   "cell_type": "code",
   "execution_count": 1,
   "metadata": {},
   "outputs": [],
   "source": [
    "from time import time\n",
    "from sklearn import metrics\n",
    "from sklearn.cluster import KMeans\n",
    "from sklearn.decomposition import PCA\n",
    "from sklearn.preprocessing import scale\n",
    "from sklearn.cluster import MiniBatchKMeans\n",
    "import pandas as pd\n",
    "import seaborn as sns\n",
    "import numpy as np\n",
    "from sklearn import linear_model\n",
    "import matplotlib.pyplot as plt\n",
    "from matplotlib.cm import binary\n"
   ]
  },
  {
   "cell_type": "code",
   "execution_count": 2,
   "metadata": {
    "scrolled": true
   },
   "outputs": [],
   "source": [
    "from sklearn.datasets import fetch_openml\n",
    "# Load data from https://www.openml.org/d/554\n",
    "X, y = fetch_openml('mnist_784', version=1, return_X_y=True)\n"
   ]
  },
  {
   "cell_type": "code",
   "execution_count": 3,
   "metadata": {},
   "outputs": [],
   "source": [
    "X = X.reshape(len(X),-1)\n",
    "X = X.astype(float) / 255"
   ]
  },
  {
   "cell_type": "markdown",
   "metadata": {},
   "source": [
    "In continuare se aplica clustering-urile si parte de program ce face relabeling la fiecare cluster cu cea mai frecventa cifra din cluster. Si se afla v-scorurile."
   ]
  },
  {
   "cell_type": "code",
   "execution_count": 9,
   "metadata": {},
   "outputs": [],
   "source": [
    "r=KMeans(init='k-means++', n_clusters=100, n_init=10).fit(X)"
   ]
  },
  {
   "cell_type": "code",
   "execution_count": 10,
   "metadata": {},
   "outputs": [
    {
     "name": "stdout",
     "output_type": "stream",
     "text": [
      "Deci v-score measure pentru kmeans clustering folosing kmeans++ cu 100 de clustere este: \n",
      "0.7620095860197739\n"
     ]
    },
    {
     "data": {
      "text/plain": [
       "(None, None)"
      ]
     },
     "execution_count": 10,
     "metadata": {},
     "output_type": "execute_result"
    }
   ],
   "source": [
    "z=r.labels_\n",
    "import numpy as np\n",
    "t = np.zeros(100)\n",
    "a = np.array([10])\n",
    "\n",
    "for j in range(100):\n",
    "    for i in range(70000):\n",
    "        if (z[i] == j): a=np.append(a, [ int(y[i]) ])\n",
    "        if(i==69999): t[j]=np.bincount(a).argmax() \n",
    "        if(i==69999):a = np.array([10])\n",
    "                                          \n",
    "for i in range(70000):\n",
    "    z[i]=t[z[i]]\n",
    "    \n",
    "print(\"Deci v-score measure pentru kmeans clustering folosing kmeans++ cu 100 de clustere este: \"), print(metrics.v_measure_score(y, z))"
   ]
  },
  {
   "cell_type": "code",
   "execution_count": 11,
   "metadata": {},
   "outputs": [],
   "source": [
    "r=KMeans(init='random', n_clusters=100, n_init=2).fit(X)"
   ]
  },
  {
   "cell_type": "code",
   "execution_count": 12,
   "metadata": {},
   "outputs": [
    {
     "name": "stdout",
     "output_type": "stream",
     "text": [
      "Deci v-score measure pentru kmeans clustering folosind metoda random cu 100 de clustere este: \n",
      "0.7669896233124648\n"
     ]
    },
    {
     "data": {
      "text/plain": [
       "(None, None)"
      ]
     },
     "execution_count": 12,
     "metadata": {},
     "output_type": "execute_result"
    }
   ],
   "source": [
    "z=r.labels_\n",
    "import numpy as np\n",
    "t = np.zeros(100)\n",
    "a = np.array([10])\n",
    "\n",
    "for j in range(100):\n",
    "    for i in range(70000):\n",
    "        if (z[i] == j): a=np.append(a, [ int(y[i]) ])\n",
    "        if(i==69999): t[j]=np.bincount(a).argmax() \n",
    "        if(i==69999):a = np.array([10])\n",
    "                                          \n",
    "for i in range(70000):\n",
    "    z[i]=t[z[i]]\n",
    "    \n",
    "print(\"Deci v-score measure pentru kmeans clustering folosind metoda random cu 100 de clustere este: \"), print(metrics.v_measure_score(y, z))"
   ]
  },
  {
   "cell_type": "code",
   "execution_count": 13,
   "metadata": {},
   "outputs": [],
   "source": [
    "# in acest caz centrele se gasesc deterministic deci rulam doar odata algoritmul\n",
    "# kmeans algorithm doar odata cu n_init=1\n",
    "data=X\n",
    "pca = PCA(n_components=100).fit(data)\n",
    "r=KMeans(init=pca.components_, n_clusters=100, n_init=1).fit(data)"
   ]
  },
  {
   "cell_type": "code",
   "execution_count": 15,
   "metadata": {},
   "outputs": [
    {
     "name": "stdout",
     "output_type": "stream",
     "text": [
      "Deci v-score measure pentru kmeans clustering folosind PCA cu 100 de clustere este: \n",
      "0.7486168069171566\n"
     ]
    },
    {
     "data": {
      "text/plain": [
       "(None, None)"
      ]
     },
     "execution_count": 15,
     "metadata": {},
     "output_type": "execute_result"
    }
   ],
   "source": [
    "z=r.labels_\n",
    "import numpy as np\n",
    "t = np.zeros(100)\n",
    "a = np.array([10])\n",
    "\n",
    "for j in range(100):\n",
    "    for i in range(70000):\n",
    "        if (z[i] == j): a=np.append(a, [ int(y[i]) ])\n",
    "        if(i==69999): t[j]=np.bincount(a).argmax() \n",
    "        if(i==69999):a = np.array([10])\n",
    "                                          \n",
    "for i in range(70000):\n",
    "    z[i]=t[z[i]]\n",
    "    \n",
    "print(\"Deci v-score measure pentru kmeans clustering folosind PCA cu 100 de clustere este: \"), print(metrics.v_measure_score(y, z))"
   ]
  },
  {
   "cell_type": "markdown",
   "metadata": {},
   "source": [
    "# In final, cea mai effiecienta metoda de clustering, din cele trei prezentate:"
   ]
  },
  {
   "cell_type": "code",
   "execution_count": 4,
   "metadata": {},
   "outputs": [],
   "source": [
    "r=KMeans(init='k-means++', n_clusters=100, n_init=10).fit(X)"
   ]
  }
 ],
 "metadata": {
  "kernelspec": {
   "display_name": "Python 3",
   "language": "python",
   "name": "python3"
  },
  "language_info": {
   "codemirror_mode": {
    "name": "ipython",
    "version": 3
   },
   "file_extension": ".py",
   "mimetype": "text/x-python",
   "name": "python",
   "nbconvert_exporter": "python",
   "pygments_lexer": "ipython3",
   "version": "3.7.4"
  }
 },
 "nbformat": 4,
 "nbformat_minor": 2
}
